{
  "nbformat": 4,
  "nbformat_minor": 0,
  "metadata": {
    "colab": {
      "provenance": []
    },
    "kernelspec": {
      "name": "python3",
      "display_name": "Python 3"
    },
    "language_info": {
      "name": "python"
    }
  },
  "cells": [
    {
      "cell_type": "code",
      "source": [
        "!pip install --upgrade -q google-cloud-aiplatform tensorflow -q"
      ],
      "metadata": {
        "id": "############"
      },
      "execution_count": null,
      "outputs": []
    },
    {
      "cell_type": "code",
      "source": [
        "import IPython\n",
        "app = IPython.Application.instance()\n",
        "app.kernel.do_shutdown(True)"
      ],
      "metadata": {
        "colab": {
          "base_uri": "https://localhost:8080/"
        },
        "id": "############",
        "outputId": "############"
      },
      "execution_count": null,
      "outputs": [
        {
          "output_type": "execute_result",
          "data": {
            "text/plain": [
              "{'status': 'ok', 'restart': True}"
            ]
          },
          "metadata": {},
          "execution_count": 2
        }
      ]
    },
    {
      "cell_type": "code",
      "source": [
        "PROJECT_ID = \"[PROVIDE GOOGLE CLOUD PROJECT_ID]\"\n",
        "! gcloud config set project $PROJECT_ID\n",
        "REGION = \"us-central1\""
      ],
      "metadata": {
        "colab": {
          "base_uri": "https://localhost:8080/"
        },
        "id": "############",
        "outputId": "############"
      },
      "execution_count": null,
      "outputs": [
        {
          "output_type": "stream",
          "name": "stdout",
          "text": [
            "Updated property [core/project].\n"
          ]
        }
      ]
    },
    {
      "cell_type": "code",
      "source": [
        "from google.colab import auth\n",
        "auth.authenticate_user()"
      ],
      "metadata": {
        "id": "############"
      },
      "execution_count": null,
      "outputs": []
    },
    {
      "cell_type": "markdown",
      "source": [
        "# Tracking Parameters and Metrics"
      ],
      "metadata": {
        "id": "############"
      }
    },
    {
      "cell_type": "markdown",
      "source": [
        "Import libraries and define constants. Loading and processing the dataset"
      ],
      "metadata": {
        "id": "############"
      }
    },
    {
      "cell_type": "code",
      "source": [
        "import matplotlib.pyplot as plt\n",
        "import pandas as pd\n",
        "from google.cloud import aiplatform\n",
        "from tensorflow.python.keras import Sequential, layers\n",
        "from tensorflow.python.keras.utils import data_utils"
      ],
      "metadata": {
        "id": "############"
      },
      "execution_count": null,
      "outputs": []
    },
    {
      "cell_type": "code",
      "source": [
        "EXPERIMENT_NAME = \"vertex-ai-auto-dataset-metrics-parameters-experiment\""
      ],
      "metadata": {
        "id": "############"
      },
      "execution_count": null,
      "outputs": []
    },
    {
      "cell_type": "markdown",
      "source": [
        "Train a distributed neural network (DNN) model to predict automobile's miles per gallon (MPG) based on automobile information from an auto-mpg dataset."
      ],
      "metadata": {
        "id": "############"
      }
    },
    {
      "cell_type": "markdown",
      "source": [
        "Load and Process the Training Dataset"
      ],
      "metadata": {
        "id": "############"
      }
    },
    {
      "cell_type": "code",
      "source": [
        "def read_data(uri):\n",
        "  dataset_path = data_utils.get_file(\"auto-mpg.data\", uri)\n",
        "  column_names = [\n",
        "      \"MPG\",\n",
        "      \"Cylinders\",\n",
        "      \"Displacement\",\n",
        "      \"Horsepower\",\n",
        "      \"Weight\",\n",
        "      \"Acceleration\",\n",
        "      \"Model Year\",\n",
        "      \"Origin\",\n",
        "  ]\n",
        "  raw_dataset = pd.read_csv(\n",
        "      dataset_path,\n",
        "      names = column_names,\n",
        "      na_values = \"?\",\n",
        "      comment = \"\\t\",\n",
        "      sep = \" \",\n",
        "      skipinitialspace = True,\n",
        "  )\n",
        "  dataset = raw_dataset.copy().dropna()\n",
        "  dataset[\"Origin\"] = dataset[\"Origin\"].map( lambda x: {1: \"USA\", 2: \"Europe\", 3: \"Japan\"}.get(x))\n",
        "  dataset = pd.get_dummies(dataset, prefix=\"\", prefix_sep=\"\")\n",
        "  return dataset\n",
        "\n",
        "dataset = read_data(\n",
        "    \"http://archive.ics.uci.edu/ml/machine-learning-databases/auto-mpg/auto-mpg.data\"\n",
        ")"
      ],
      "metadata": {
        "id": "############"
      },
      "execution_count": null,
      "outputs": []
    },
    {
      "cell_type": "markdown",
      "source": [
        "Split dataset for training and testing."
      ],
      "metadata": {
        "id": "############"
      }
    },
    {
      "cell_type": "code",
      "source": [
        "def train_test_split(dataset, split_frac=0.8, random_state=0):\n",
        "  train_dataset = dataset.sample(frac=split_frac, random_state=random_state)\n",
        "  test_dataset = dataset.drop(train_dataset.index)\n",
        "  train_labels = train_dataset.pop(\"MPG\")\n",
        "  test_labels = test_dataset.pop(\"MPG\")\n",
        "\n",
        "  return train_dataset, test_dataset, train_labels, test_labels\n",
        "\n",
        "train_dataset, test_dataset, train_labels, test_labels = train_test_split(dataset)"
      ],
      "metadata": {
        "id": "############"
      },
      "execution_count": null,
      "outputs": []
    },
    {
      "cell_type": "markdown",
      "source": [
        "Normalize the features in the dataset for better model performance."
      ],
      "metadata": {
        "id": "############"
      }
    },
    {
      "cell_type": "code",
      "source": [
        "def normalize_dataset(train_dataset, test_dataset):\n",
        "  train_stats = train_dataset.describe()\n",
        "  train_stats = train_stats.transpose()\n",
        "\n",
        "  def norm(x):\n",
        "    return ( x - train_stats[\"mean\"]) / train_stats[\"std\"]\n",
        "\n",
        "  normed_train_data = norm(train_dataset)\n",
        "  normed_test_data = norm(test_dataset)\n",
        "\n",
        "  return normed_train_data, normed_test_data\n",
        "\n",
        "normed_train_data, normed_test_data = normalize_dataset(train_dataset, test_dataset)"
      ],
      "metadata": {
        "id": "############"
      },
      "execution_count": null,
      "outputs": []
    },
    {
      "cell_type": "markdown",
      "source": [
        "Define ML model and training function"
      ],
      "metadata": {
        "id": "############"
      }
    },
    {
      "cell_type": "code",
      "source": [
        "def train(\n",
        "    train_data,\n",
        "    train_labels,\n",
        "    num_units=64,\n",
        "    activation=\"relu\",\n",
        "    dropout_rate=0.0,\n",
        "    validation_split=0.2,\n",
        "    epochs=1000,\n",
        "):\n",
        "    model = Sequential(\n",
        "        [\n",
        "            layers.Dense(\n",
        "                num_units,\n",
        "                activation=activation,\n",
        "                input_shape=[len(train_dataset.keys())],\n",
        "            ),\n",
        "            layers.Dropout(rate=dropout_rate),\n",
        "            layers.Dense(num_units, activation=activation),\n",
        "            layers.Dense(1),\n",
        "        ]\n",
        "    )\n",
        "\n",
        "    model.compile(loss=\"mse\", optimizer=\"adam\", metrics=[\"mae\", \"mse\"])\n",
        "    print(model.summary())\n",
        "\n",
        "    history = model.fit(\n",
        "        train_data, train_labels, epochs=epochs, validation_split=validation_split\n",
        "    )\n",
        "\n",
        "    return model, history"
      ],
      "metadata": {
        "id": "############"
      },
      "execution_count": null,
      "outputs": []
    },
    {
      "cell_type": "markdown",
      "source": [
        "# Initialize Vertex AI SDK for Python and create and Experiment"
      ],
      "metadata": {
        "id": "############"
      }
    },
    {
      "cell_type": "markdown",
      "source": [
        "Initialize the client for Vertex AI and create an experiment."
      ],
      "metadata": {
        "id": "############"
      }
    },
    {
      "cell_type": "code",
      "source": [
        "aiplatform.init(project=PROJECT_ID, location=REGION, experiment=EXPERIMENT_NAME)"
      ],
      "metadata": {
        "id": "############"
      },
      "execution_count": null,
      "outputs": []
    },
    {
      "cell_type": "markdown",
      "source": [
        "# Start several model training runs"
      ],
      "metadata": {
        "id": "############"
      }
    },
    {
      "cell_type": "markdown",
      "source": [
        "Training parameters and metrics are logged for each run."
      ],
      "metadata": {
        "id": "############"
      }
    },
    {
      "cell_type": "code",
      "source": [
        "parameters = [\n",
        "    {\"num_units\": 16, \"epochs\": 3,  \"dropout_rate\": 0.1},\n",
        "    {\"num_units\": 16, \"epochs\": 10, \"dropout_rate\": 0.1},\n",
        "    {\"num_units\": 16, \"epochs\": 10, \"dropout_rate\": 0.2},\n",
        "    {\"num_units\": 32, \"epochs\": 10, \"dropout_rate\": 0.1},\n",
        "    {\"num_units\": 32, \"epochs\": 10, \"dropout_rate\": 0.2},\n",
        "]\n",
        "\n",
        "for i, params in enumerate(parameters):\n",
        "  aiplatform.start_run(run=f\"auto-mpg-local-second-trial-run-{i}\")\n",
        "  aiplatform.log_params(params)\n",
        "  model, history = train(\n",
        "      normed_train_data,\n",
        "      train_labels,\n",
        "      num_units=params[\"num_units\"],\n",
        "      activation=\"relu\",\n",
        "      epochs=params[\"epochs\"],\n",
        "      dropout_rate=params[\"dropout_rate\"],\n",
        "  )\n",
        "\n",
        "  for metric, values in history.history.items():\n",
        "    try:\n",
        "      aiplatform.log_metrics({metric: values[-1]})\n",
        "    except:\n",
        "      aiplatform.log_metrics({metric: 0.0})\n",
        "\n",
        "  loss, mae, mse = model.evaluate(normed_test_data, test_labels, verbose=2)\n",
        "  try:\n",
        "    aiplatform.log_metrics({\"eval_loss\": loss, \"eval_mae\": mae, \"eval_mse\": mse})\n",
        "  except:\n",
        "    aiplatform.log_metrics({\"eval_loss\": 0.0, \"eval_mae\": 0.0, \"eval_mse\": 0.0})"
      ],
      "metadata": {
        "id": "############",
        "colab": {
          "base_uri": "https://localhost:8080/"
        },
        "outputId": "############1"
      },
      "execution_count": null,
      "outputs": [
        {
          "output_type": "stream",
          "name": "stdout",
          "text": [
            "Associating projects/[GOOGLE_PROJECT_NUMBER]/locations/us-central1/metadataStores/default/contexts/vertex-ai-auto-dataset-metrics-parameters-experiment-auto-mpg-local-second-trial-run-0 to Experiment: vertex-ai-auto-dataset-metrics-parameters-experiment\n"
          ]
        },
        {
          "output_type": "stream",
          "name": "stderr",
          "text": [
            "INFO:google.cloud.aiplatform.metadata.experiment_resources:Associating projects/[GOOGLE_PROJECT_NUMBER]/locations/us-central1/metadataStores/default/contexts/vertex-ai-auto-dataset-metrics-parameters-experiment-auto-mpg-local-second-trial-run-0 to Experiment: vertex-ai-auto-dataset-metrics-parameters-experiment\n"
          ]
        },
        {
          "output_type": "stream",
          "name": "stdout",
          "text": [
            "Model: \"sequential\"\n",
            "_________________________________________________________________\n",
            "Layer (type)                 Output Shape              Param #   \n",
            "=================================================================\n",
            "dense (Dense)                (None, 16)                160       \n",
            "_________________________________________________________________\n",
            "dropout (Dropout)            (None, 16)                0         \n",
            "_________________________________________________________________\n",
            "dense_1 (Dense)              (None, 16)                272       \n",
            "_________________________________________________________________\n",
            "dense_2 (Dense)              (None, 1)                 17        \n",
            "=================================================================\n",
            "Total params: 449\n",
            "Trainable params: 449\n",
            "Non-trainable params: 0\n",
            "_________________________________________________________________\n",
            "None\n",
            "Epoch 1/3\n",
            "8/8 [==============================] - 1s 23ms/step - loss: 615.5724 - mae: 23.5790 - mse: 615.5724 - val_loss: 642.9025 - val_mae: 24.1192 - val_mse: 642.9025\n",
            "Epoch 2/3\n",
            "8/8 [==============================] - 0s 4ms/step - loss: 606.4442 - mae: 23.3931 - mse: 606.4442 - val_loss: 631.8079 - val_mae: 23.9125 - val_mse: 631.8079\n",
            "Epoch 3/3\n",
            "8/8 [==============================] - 0s 4ms/step - loss: 597.1345 - mae: 23.2183 - mse: 597.1345 - val_loss: 621.4551 - val_mae: 23.7162 - val_mse: 621.4551\n",
            "3/3 - 0s - loss: 633.9583 - mae: 23.8739 - mse: 633.9583\n",
            "Associating projects/[GOOGLE_PROJECT_NUMBER]/locations/us-central1/metadataStores/default/contexts/vertex-ai-auto-dataset-metrics-parameters-experiment-auto-mpg-local-second-trial-run-1 to Experiment: vertex-ai-auto-dataset-metrics-parameters-experiment\n"
          ]
        },
        {
          "output_type": "stream",
          "name": "stderr",
          "text": [
            "INFO:google.cloud.aiplatform.metadata.experiment_resources:Associating projects/[GOOGLE_PROJECT_NUMBER]/locations/us-central1/metadataStores/default/contexts/vertex-ai-auto-dataset-metrics-parameters-experiment-auto-mpg-local-second-trial-run-1 to Experiment: vertex-ai-auto-dataset-metrics-parameters-experiment\n"
          ]
        },
        {
          "output_type": "stream",
          "name": "stdout",
          "text": [
            "Model: \"sequential_1\"\n",
            "_________________________________________________________________\n",
            "Layer (type)                 Output Shape              Param #   \n",
            "=================================================================\n",
            "dense_3 (Dense)              (None, 16)                160       \n",
            "_________________________________________________________________\n",
            "dropout_1 (Dropout)          (None, 16)                0         \n",
            "_________________________________________________________________\n",
            "dense_4 (Dense)              (None, 16)                272       \n",
            "_________________________________________________________________\n",
            "dense_5 (Dense)              (None, 1)                 17        \n",
            "=================================================================\n",
            "Total params: 449\n",
            "Trainable params: 449\n",
            "Non-trainable params: 0\n",
            "_________________________________________________________________\n",
            "None\n",
            "Epoch 1/10\n",
            "8/8 [==============================] - 0s 18ms/step - loss: 602.6524 - mae: 23.3237 - mse: 602.6524 - val_loss: 626.1266 - val_mae: 23.7974 - val_mse: 626.1266\n",
            "Epoch 2/10\n",
            "8/8 [==============================] - 0s 4ms/step - loss: 596.4356 - mae: 23.2013 - mse: 596.4356 - val_loss: 620.6893 - val_mae: 23.6931 - val_mse: 620.6893\n",
            "Epoch 3/10\n",
            "8/8 [==============================] - 0s 4ms/step - loss: 591.6434 - mae: 23.1038 - mse: 591.6434 - val_loss: 615.4184 - val_mae: 23.5902 - val_mse: 615.4184\n",
            "Epoch 4/10\n",
            "8/8 [==============================] - 0s 4ms/step - loss: 585.7042 - mae: 22.9822 - mse: 585.7042 - val_loss: 609.9097 - val_mae: 23.4818 - val_mse: 609.9097\n",
            "Epoch 5/10\n",
            "8/8 [==============================] - 0s 4ms/step - loss: 580.0911 - mae: 22.8776 - mse: 580.0911 - val_loss: 604.0892 - val_mae: 23.3670 - val_mse: 604.0892\n",
            "Epoch 6/10\n",
            "8/8 [==============================] - 0s 4ms/step - loss: 573.6078 - mae: 22.7501 - mse: 573.6078 - val_loss: 597.4557 - val_mae: 23.2373 - val_mse: 597.4557\n",
            "Epoch 7/10\n",
            "8/8 [==============================] - 0s 4ms/step - loss: 566.1509 - mae: 22.6029 - mse: 566.1509 - val_loss: 589.7939 - val_mae: 23.0873 - val_mse: 589.7939\n",
            "Epoch 8/10\n",
            "8/8 [==============================] - 0s 5ms/step - loss: 558.1894 - mae: 22.4372 - mse: 558.1894 - val_loss: 580.7689 - val_mae: 22.9100 - val_mse: 580.7689\n",
            "Epoch 9/10\n",
            "8/8 [==============================] - 0s 3ms/step - loss: 550.2338 - mae: 22.2841 - mse: 550.2338 - val_loss: 570.0490 - val_mae: 22.6993 - val_mse: 570.0490\n",
            "Epoch 10/10\n",
            "8/8 [==============================] - 0s 3ms/step - loss: 537.3026 - mae: 22.0122 - mse: 537.3026 - val_loss: 557.1446 - val_mae: 22.4461 - val_mse: 557.1446\n",
            "3/3 - 0s - loss: 567.6186 - mae: 22.5863 - mse: 567.6186\n",
            "Associating projects/[GOOGLE_PROJECT_NUMBER]/locations/us-central1/metadataStores/default/contexts/vertex-ai-auto-dataset-metrics-parameters-experiment-auto-mpg-local-second-trial-run-2 to Experiment: vertex-ai-auto-dataset-metrics-parameters-experiment\n"
          ]
        },
        {
          "output_type": "stream",
          "name": "stderr",
          "text": [
            "INFO:google.cloud.aiplatform.metadata.experiment_resources:Associating projects/[GOOGLE_PROJECT_NUMBER]/locations/us-central1/metadataStores/default/contexts/vertex-ai-auto-dataset-metrics-parameters-experiment-auto-mpg-local-second-trial-run-2 to Experiment: vertex-ai-auto-dataset-metrics-parameters-experiment\n"
          ]
        },
        {
          "output_type": "stream",
          "name": "stdout",
          "text": [
            "Model: \"sequential_2\"\n",
            "_________________________________________________________________\n",
            "Layer (type)                 Output Shape              Param #   \n",
            "=================================================================\n",
            "dense_6 (Dense)              (None, 16)                160       \n",
            "_________________________________________________________________\n",
            "dropout_2 (Dropout)          (None, 16)                0         \n",
            "_________________________________________________________________\n",
            "dense_7 (Dense)              (None, 16)                272       \n",
            "_________________________________________________________________\n",
            "dense_8 (Dense)              (None, 1)                 17        \n",
            "=================================================================\n",
            "Total params: 449\n",
            "Trainable params: 449\n",
            "Non-trainable params: 0\n",
            "_________________________________________________________________\n",
            "None\n",
            "Epoch 1/10\n",
            "8/8 [==============================] - 0s 18ms/step - loss: 594.9050 - mae: 23.1879 - mse: 594.9050 - val_loss: 618.1317 - val_mae: 23.6820 - val_mse: 618.1317\n",
            "Epoch 2/10\n",
            "8/8 [==============================] - 0s 4ms/step - loss: 588.8019 - mae: 23.0615 - mse: 588.8019 - val_loss: 608.6501 - val_mae: 23.4985 - val_mse: 608.6501\n",
            "Epoch 3/10\n",
            "8/8 [==============================] - 0s 3ms/step - loss: 576.7958 - mae: 22.8370 - mse: 576.7958 - val_loss: 599.3353 - val_mae: 23.3155 - val_mse: 599.3353\n",
            "Epoch 4/10\n",
            "8/8 [==============================] - 0s 3ms/step - loss: 570.3763 - mae: 22.7062 - mse: 570.3763 - val_loss: 589.9367 - val_mae: 23.1280 - val_mse: 589.9367\n",
            "Epoch 5/10\n",
            "8/8 [==============================] - 0s 4ms/step - loss: 559.5709 - mae: 22.4753 - mse: 559.5709 - val_loss: 580.4203 - val_mae: 22.9348 - val_mse: 580.4203\n",
            "Epoch 6/10\n",
            "8/8 [==============================] - 0s 4ms/step - loss: 548.6976 - mae: 22.2564 - mse: 548.6976 - val_loss: 569.8766 - val_mae: 22.7189 - val_mse: 569.8766\n",
            "Epoch 7/10\n",
            "8/8 [==============================] - 0s 4ms/step - loss: 543.2576 - mae: 22.1351 - mse: 543.2576 - val_loss: 558.3429 - val_mae: 22.4792 - val_mse: 558.3429\n",
            "Epoch 8/10\n",
            "8/8 [==============================] - 0s 4ms/step - loss: 532.0557 - mae: 21.8965 - mse: 532.0557 - val_loss: 545.4099 - val_mae: 22.2057 - val_mse: 545.4099\n",
            "Epoch 9/10\n",
            "8/8 [==============================] - 0s 7ms/step - loss: 516.8037 - mae: 21.5732 - mse: 516.8037 - val_loss: 530.9038 - val_mae: 21.8939 - val_mse: 530.9037\n",
            "Epoch 10/10\n",
            "8/8 [==============================] - 0s 4ms/step - loss: 504.6781 - mae: 21.2932 - mse: 504.6781 - val_loss: 514.2581 - val_mae: 21.5318 - val_mse: 514.2581\n",
            "3/3 - 0s - loss: 532.8336 - mae: 21.8748 - mse: 532.8336\n",
            "Associating projects/[GOOGLE_PROJECT_NUMBER]/locations/us-central1/metadataStores/default/contexts/vertex-ai-auto-dataset-metrics-parameters-experiment-auto-mpg-local-second-trial-run-3 to Experiment: vertex-ai-auto-dataset-metrics-parameters-experiment\n"
          ]
        },
        {
          "output_type": "stream",
          "name": "stderr",
          "text": [
            "INFO:google.cloud.aiplatform.metadata.experiment_resources:Associating projects/[GOOGLE_PROJECT_NUMBER]/locations/us-central1/metadataStores/default/contexts/vertex-ai-auto-dataset-metrics-parameters-experiment-auto-mpg-local-second-trial-run-3 to Experiment: vertex-ai-auto-dataset-metrics-parameters-experiment\n"
          ]
        },
        {
          "output_type": "stream",
          "name": "stdout",
          "text": [
            "Model: \"sequential_3\"\n",
            "_________________________________________________________________\n",
            "Layer (type)                 Output Shape              Param #   \n",
            "=================================================================\n",
            "dense_9 (Dense)              (None, 32)                320       \n",
            "_________________________________________________________________\n",
            "dropout_3 (Dropout)          (None, 32)                0         \n",
            "_________________________________________________________________\n",
            "dense_10 (Dense)             (None, 32)                1056      \n",
            "_________________________________________________________________\n",
            "dense_11 (Dense)             (None, 1)                 33        \n",
            "=================================================================\n",
            "Total params: 1,409\n",
            "Trainable params: 1,409\n",
            "Non-trainable params: 0\n",
            "_________________________________________________________________\n",
            "None\n",
            "Epoch 1/10\n",
            "8/8 [==============================] - 1s 29ms/step - loss: 588.7955 - mae: 23.0266 - mse: 588.7955 - val_loss: 605.0664 - val_mae: 23.3297 - val_mse: 605.0664\n",
            "Epoch 2/10\n",
            "8/8 [==============================] - 0s 5ms/step - loss: 572.6573 - mae: 22.6801 - mse: 572.6573 - val_loss: 587.8253 - val_mae: 22.9571 - val_mse: 587.8253\n",
            "Epoch 3/10\n",
            "8/8 [==============================] - 0s 7ms/step - loss: 556.5819 - mae: 22.3196 - mse: 556.5819 - val_loss: 569.4150 - val_mae: 22.5546 - val_mse: 569.4150\n",
            "Epoch 4/10\n",
            "8/8 [==============================] - 0s 8ms/step - loss: 539.0529 - mae: 21.9250 - mse: 539.0529 - val_loss: 548.8776 - val_mae: 22.1003 - val_mse: 548.8776\n",
            "Epoch 5/10\n",
            "8/8 [==============================] - 0s 4ms/step - loss: 519.4249 - mae: 21.4831 - mse: 519.4249 - val_loss: 524.9788 - val_mae: 21.5604 - val_mse: 524.9788\n",
            "Epoch 6/10\n",
            "8/8 [==============================] - 0s 5ms/step - loss: 496.2128 - mae: 20.9349 - mse: 496.2128 - val_loss: 496.8240 - val_mae: 20.9131 - val_mse: 496.8240\n",
            "Epoch 7/10\n",
            "8/8 [==============================] - 0s 8ms/step - loss: 469.0881 - mae: 20.3057 - mse: 469.0881 - val_loss: 463.7209 - val_mae: 20.1294 - val_mse: 463.7209\n",
            "Epoch 8/10\n",
            "8/8 [==============================] - 0s 5ms/step - loss: 436.4707 - mae: 19.5123 - mse: 436.4707 - val_loss: 423.7900 - val_mae: 19.1600 - val_mse: 423.7900\n",
            "Epoch 9/10\n",
            "8/8 [==============================] - 0s 5ms/step - loss: 399.3571 - mae: 18.5775 - mse: 399.3571 - val_loss: 378.2019 - val_mae: 17.9937 - val_mse: 378.2019\n",
            "Epoch 10/10\n",
            "8/8 [==============================] - 0s 5ms/step - loss: 353.5018 - mae: 17.3806 - mse: 353.5018 - val_loss: 328.3957 - val_mae: 16.6317 - val_mse: 328.3957\n",
            "3/3 - 0s - loss: 347.0505 - mae: 17.2015 - mse: 347.0505\n",
            "Associating projects/[GOOGLE_PROJECT_NUMBER]/locations/us-central1/metadataStores/default/contexts/vertex-ai-auto-dataset-metrics-parameters-experiment-auto-mpg-local-second-trial-run-4 to Experiment: vertex-ai-auto-dataset-metrics-parameters-experiment\n"
          ]
        },
        {
          "output_type": "stream",
          "name": "stderr",
          "text": [
            "INFO:google.cloud.aiplatform.metadata.experiment_resources:Associating projects/[GOOGLE_PROJECT_NUMBER]/locations/us-central1/metadataStores/default/contexts/vertex-ai-auto-dataset-metrics-parameters-experiment-auto-mpg-local-second-trial-run-4 to Experiment: vertex-ai-auto-dataset-metrics-parameters-experiment\n"
          ]
        },
        {
          "output_type": "stream",
          "name": "stdout",
          "text": [
            "Model: \"sequential_4\"\n",
            "_________________________________________________________________\n",
            "Layer (type)                 Output Shape              Param #   \n",
            "=================================================================\n",
            "dense_12 (Dense)             (None, 32)                320       \n",
            "_________________________________________________________________\n",
            "dropout_4 (Dropout)          (None, 32)                0         \n",
            "_________________________________________________________________\n",
            "dense_13 (Dense)             (None, 32)                1056      \n",
            "_________________________________________________________________\n",
            "dense_14 (Dense)             (None, 1)                 33        \n",
            "=================================================================\n",
            "Total params: 1,409\n",
            "Trainable params: 1,409\n",
            "Non-trainable params: 0\n",
            "_________________________________________________________________\n",
            "None\n",
            "Epoch 1/10\n",
            "8/8 [==============================] - 0s 20ms/step - loss: 603.8910 - mae: 23.3968 - mse: 603.8911 - val_loss: 618.7414 - val_mae: 23.7142 - val_mse: 618.7414\n",
            "Epoch 2/10\n",
            "8/8 [==============================] - 0s 4ms/step - loss: 586.5839 - mae: 23.0375 - mse: 586.5839 - val_loss: 600.0972 - val_mae: 23.3129 - val_mse: 600.0972\n",
            "Epoch 3/10\n",
            "8/8 [==============================] - 0s 4ms/step - loss: 570.0458 - mae: 22.6738 - mse: 570.0458 - val_loss: 580.5255 - val_mae: 22.8869 - val_mse: 580.5255\n",
            "Epoch 4/10\n",
            "8/8 [==============================] - 0s 4ms/step - loss: 550.1844 - mae: 22.2445 - mse: 550.1844 - val_loss: 559.3740 - val_mae: 22.4197 - val_mse: 559.3740\n",
            "Epoch 5/10\n",
            "8/8 [==============================] - 0s 4ms/step - loss: 531.3542 - mae: 21.8282 - mse: 531.3542 - val_loss: 536.0475 - val_mae: 21.8922 - val_mse: 536.0475\n",
            "Epoch 6/10\n",
            "8/8 [==============================] - 0s 4ms/step - loss: 509.2729 - mae: 21.3297 - mse: 509.2729 - val_loss: 509.3748 - val_mae: 21.2759 - val_mse: 509.3748\n",
            "Epoch 7/10\n",
            "8/8 [==============================] - 0s 4ms/step - loss: 482.4185 - mae: 20.6932 - mse: 482.4185 - val_loss: 479.6672 - val_mae: 20.5653 - val_mse: 479.6672\n",
            "Epoch 8/10\n",
            "8/8 [==============================] - 0s 5ms/step - loss: 457.2707 - mae: 20.0794 - mse: 457.2707 - val_loss: 446.5569 - val_mae: 19.7473 - val_mse: 446.5569\n",
            "Epoch 9/10\n",
            "8/8 [==============================] - 0s 4ms/step - loss: 428.4126 - mae: 19.3298 - mse: 428.4126 - val_loss: 410.0675 - val_mae: 18.8078 - val_mse: 410.0675\n",
            "Epoch 10/10\n",
            "8/8 [==============================] - 0s 4ms/step - loss: 387.8345 - mae: 18.2594 - mse: 387.8345 - val_loss: 369.3781 - val_mae: 17.7128 - val_mse: 369.3781\n",
            "3/3 - 0s - loss: 388.0015 - mae: 18.2526 - mse: 388.0015\n"
          ]
        }
      ]
    },
    {
      "cell_type": "markdown",
      "source": [
        "# Extract parameters and metrics into a dataframe for analysis"
      ],
      "metadata": {
        "id": "############"
      }
    },
    {
      "cell_type": "markdown",
      "source": [
        "Extract all parameters and metrics associated with the Experiment into a dataframe for further analysis."
      ],
      "metadata": {
        "id": "############"
      }
    },
    {
      "cell_type": "code",
      "source": [
        "experiment_df = aiplatform.get_experiment_df()\n",
        "experiment_df"
      ],
      "metadata": {
        "id": "############",
        "colab": {
          "base_uri": "https://localhost:8080/",
          "height": 1000
        },
        "outputId": "############"
      },
      "execution_count": null,
      "outputs": [
        {
          "output_type": "execute_result",
          "data": {
            "text/plain": [
              "                                     experiment_name  \\\n",
              "0  vertex-ai-auto-dataset-metrics-parameters-expe...   \n",
              "1  vertex-ai-auto-dataset-metrics-parameters-expe...   \n",
              "2  vertex-ai-auto-dataset-metrics-parameters-expe...   \n",
              "3  vertex-ai-auto-dataset-metrics-parameters-expe...   \n",
              "4  vertex-ai-auto-dataset-metrics-parameters-expe...   \n",
              "5  vertex-ai-auto-dataset-metrics-parameters-expe...   \n",
              "6  vertex-ai-auto-dataset-metrics-parameters-expe...   \n",
              "7  vertex-ai-auto-dataset-metrics-parameters-expe...   \n",
              "8  vertex-ai-auto-dataset-metrics-parameters-expe...   \n",
              "9  vertex-ai-auto-dataset-metrics-parameters-expe...   \n",
              "\n",
              "                            run_name              run_type     state  \\\n",
              "0  auto-mpg-local-second-trial-run-4  system.ExperimentRun   RUNNING   \n",
              "1  auto-mpg-local-second-trial-run-3  system.ExperimentRun  COMPLETE   \n",
              "2  auto-mpg-local-second-trial-run-2  system.ExperimentRun  COMPLETE   \n",
              "3  auto-mpg-local-second-trial-run-1  system.ExperimentRun  COMPLETE   \n",
              "4  auto-mpg-local-second-trial-run-0  system.ExperimentRun  COMPLETE   \n",
              "5               auto-mpg-local-run-4  system.ExperimentRun   RUNNING   \n",
              "6               auto-mpg-local-run-3  system.ExperimentRun  COMPLETE   \n",
              "7               auto-mpg-local-run-2  system.ExperimentRun  COMPLETE   \n",
              "8               auto-mpg-local-run-1  system.ExperimentRun  COMPLETE   \n",
              "9               auto-mpg-local-run-0  system.ExperimentRun  COMPLETE   \n",
              "\n",
              "   param.dropout_rate  param.epochs  param.num_units  metric.val_mse  \\\n",
              "0                 0.2          10.0             32.0      369.378113   \n",
              "1                 0.1          10.0             32.0      328.395721   \n",
              "2                 0.2          10.0             16.0      514.258057   \n",
              "3                 0.1          10.0             16.0      557.144592   \n",
              "4                 0.1           3.0             16.0      621.455139   \n",
              "5                 0.2          10.0             32.0      264.989685   \n",
              "6                 0.1          10.0             32.0      298.107025   \n",
              "7                 0.2          10.0             16.0      476.835754   \n",
              "8                 0.1          10.0             16.0      530.446899   \n",
              "9                 0.1           3.0             16.0      603.986511   \n",
              "\n",
              "   metric.mae  metric.mse  metric.eval_loss  metric.val_mae  metric.eval_mse  \\\n",
              "0   18.259413  387.834503        388.001495       17.712791       388.001495   \n",
              "1   17.380619  353.501770        347.050507       16.631744       347.050507   \n",
              "2   21.293167  504.678070        532.833557       21.531784       532.833557   \n",
              "3   22.012247  537.302551        567.618591       22.446081       567.618591   \n",
              "4   23.218288  597.134460        633.958313       23.716204       633.958313   \n",
              "5   15.504668  300.674286        291.030090       14.238668       291.030090   \n",
              "6   16.680141  327.736267        317.188690       15.783656       317.188690   \n",
              "7   20.733881  473.659668        494.974548       20.832954       494.974548   \n",
              "8   21.084642  518.813904        555.201355       21.171076       555.201355   \n",
              "9   22.856188  581.430359        616.793457       23.302818       616.793457   \n",
              "\n",
              "   metric.val_loss  metric.eval_mae  metric.loss  \n",
              "0       369.378113        18.252563   387.834503  \n",
              "1       328.395721        17.201534   353.501770  \n",
              "2       514.258057        21.874760   504.678070  \n",
              "3       557.144592        22.586262   537.302551  \n",
              "4       621.455139        23.873871   597.134460  \n",
              "5       264.989716        15.323176   300.674286  \n",
              "6       298.107025        16.415602   327.736267  \n",
              "7       476.835754        21.179184   473.659668  \n",
              "8       530.446899        21.680782   518.813904  \n",
              "9       603.986511        23.483456   581.430359  "
            ],
            "text/html": [
              "\n",
              "  <div id=\"df-22ed0a63-b544-453c-b4a6-8d79f0bbd42e\">\n",
              "    <div class=\"colab-df-container\">\n",
              "      <div>\n",
              "<style scoped>\n",
              "    .dataframe tbody tr th:only-of-type {\n",
              "        vertical-align: middle;\n",
              "    }\n",
              "\n",
              "    .dataframe tbody tr th {\n",
              "        vertical-align: top;\n",
              "    }\n",
              "\n",
              "    .dataframe thead th {\n",
              "        text-align: right;\n",
              "    }\n",
              "</style>\n",
              "<table border=\"1\" class=\"dataframe\">\n",
              "  <thead>\n",
              "    <tr style=\"text-align: right;\">\n",
              "      <th></th>\n",
              "      <th>experiment_name</th>\n",
              "      <th>run_name</th>\n",
              "      <th>run_type</th>\n",
              "      <th>state</th>\n",
              "      <th>param.dropout_rate</th>\n",
              "      <th>param.epochs</th>\n",
              "      <th>param.num_units</th>\n",
              "      <th>metric.val_mse</th>\n",
              "      <th>metric.mae</th>\n",
              "      <th>metric.mse</th>\n",
              "      <th>metric.eval_loss</th>\n",
              "      <th>metric.val_mae</th>\n",
              "      <th>metric.eval_mse</th>\n",
              "      <th>metric.val_loss</th>\n",
              "      <th>metric.eval_mae</th>\n",
              "      <th>metric.loss</th>\n",
              "    </tr>\n",
              "  </thead>\n",
              "  <tbody>\n",
              "    <tr>\n",
              "      <th>0</th>\n",
              "      <td>vertex-ai-auto-dataset-metrics-parameters-expe...</td>\n",
              "      <td>auto-mpg-local-second-trial-run-4</td>\n",
              "      <td>system.ExperimentRun</td>\n",
              "      <td>RUNNING</td>\n",
              "      <td>0.2</td>\n",
              "      <td>10.0</td>\n",
              "      <td>32.0</td>\n",
              "      <td>369.378113</td>\n",
              "      <td>18.259413</td>\n",
              "      <td>387.834503</td>\n",
              "      <td>388.001495</td>\n",
              "      <td>17.712791</td>\n",
              "      <td>388.001495</td>\n",
              "      <td>369.378113</td>\n",
              "      <td>18.252563</td>\n",
              "      <td>387.834503</td>\n",
              "    </tr>\n",
              "    <tr>\n",
              "      <th>1</th>\n",
              "      <td>vertex-ai-auto-dataset-metrics-parameters-expe...</td>\n",
              "      <td>auto-mpg-local-second-trial-run-3</td>\n",
              "      <td>system.ExperimentRun</td>\n",
              "      <td>COMPLETE</td>\n",
              "      <td>0.1</td>\n",
              "      <td>10.0</td>\n",
              "      <td>32.0</td>\n",
              "      <td>328.395721</td>\n",
              "      <td>17.380619</td>\n",
              "      <td>353.501770</td>\n",
              "      <td>347.050507</td>\n",
              "      <td>16.631744</td>\n",
              "      <td>347.050507</td>\n",
              "      <td>328.395721</td>\n",
              "      <td>17.201534</td>\n",
              "      <td>353.501770</td>\n",
              "    </tr>\n",
              "    <tr>\n",
              "      <th>2</th>\n",
              "      <td>vertex-ai-auto-dataset-metrics-parameters-expe...</td>\n",
              "      <td>auto-mpg-local-second-trial-run-2</td>\n",
              "      <td>system.ExperimentRun</td>\n",
              "      <td>COMPLETE</td>\n",
              "      <td>0.2</td>\n",
              "      <td>10.0</td>\n",
              "      <td>16.0</td>\n",
              "      <td>514.258057</td>\n",
              "      <td>21.293167</td>\n",
              "      <td>504.678070</td>\n",
              "      <td>532.833557</td>\n",
              "      <td>21.531784</td>\n",
              "      <td>532.833557</td>\n",
              "      <td>514.258057</td>\n",
              "      <td>21.874760</td>\n",
              "      <td>504.678070</td>\n",
              "    </tr>\n",
              "    <tr>\n",
              "      <th>3</th>\n",
              "      <td>vertex-ai-auto-dataset-metrics-parameters-expe...</td>\n",
              "      <td>auto-mpg-local-second-trial-run-1</td>\n",
              "      <td>system.ExperimentRun</td>\n",
              "      <td>COMPLETE</td>\n",
              "      <td>0.1</td>\n",
              "      <td>10.0</td>\n",
              "      <td>16.0</td>\n",
              "      <td>557.144592</td>\n",
              "      <td>22.012247</td>\n",
              "      <td>537.302551</td>\n",
              "      <td>567.618591</td>\n",
              "      <td>22.446081</td>\n",
              "      <td>567.618591</td>\n",
              "      <td>557.144592</td>\n",
              "      <td>22.586262</td>\n",
              "      <td>537.302551</td>\n",
              "    </tr>\n",
              "    <tr>\n",
              "      <th>4</th>\n",
              "      <td>vertex-ai-auto-dataset-metrics-parameters-expe...</td>\n",
              "      <td>auto-mpg-local-second-trial-run-0</td>\n",
              "      <td>system.ExperimentRun</td>\n",
              "      <td>COMPLETE</td>\n",
              "      <td>0.1</td>\n",
              "      <td>3.0</td>\n",
              "      <td>16.0</td>\n",
              "      <td>621.455139</td>\n",
              "      <td>23.218288</td>\n",
              "      <td>597.134460</td>\n",
              "      <td>633.958313</td>\n",
              "      <td>23.716204</td>\n",
              "      <td>633.958313</td>\n",
              "      <td>621.455139</td>\n",
              "      <td>23.873871</td>\n",
              "      <td>597.134460</td>\n",
              "    </tr>\n",
              "    <tr>\n",
              "      <th>5</th>\n",
              "      <td>vertex-ai-auto-dataset-metrics-parameters-expe...</td>\n",
              "      <td>auto-mpg-local-run-4</td>\n",
              "      <td>system.ExperimentRun</td>\n",
              "      <td>RUNNING</td>\n",
              "      <td>0.2</td>\n",
              "      <td>10.0</td>\n",
              "      <td>32.0</td>\n",
              "      <td>264.989685</td>\n",
              "      <td>15.504668</td>\n",
              "      <td>300.674286</td>\n",
              "      <td>291.030090</td>\n",
              "      <td>14.238668</td>\n",
              "      <td>291.030090</td>\n",
              "      <td>264.989716</td>\n",
              "      <td>15.323176</td>\n",
              "      <td>300.674286</td>\n",
              "    </tr>\n",
              "    <tr>\n",
              "      <th>6</th>\n",
              "      <td>vertex-ai-auto-dataset-metrics-parameters-expe...</td>\n",
              "      <td>auto-mpg-local-run-3</td>\n",
              "      <td>system.ExperimentRun</td>\n",
              "      <td>COMPLETE</td>\n",
              "      <td>0.1</td>\n",
              "      <td>10.0</td>\n",
              "      <td>32.0</td>\n",
              "      <td>298.107025</td>\n",
              "      <td>16.680141</td>\n",
              "      <td>327.736267</td>\n",
              "      <td>317.188690</td>\n",
              "      <td>15.783656</td>\n",
              "      <td>317.188690</td>\n",
              "      <td>298.107025</td>\n",
              "      <td>16.415602</td>\n",
              "      <td>327.736267</td>\n",
              "    </tr>\n",
              "    <tr>\n",
              "      <th>7</th>\n",
              "      <td>vertex-ai-auto-dataset-metrics-parameters-expe...</td>\n",
              "      <td>auto-mpg-local-run-2</td>\n",
              "      <td>system.ExperimentRun</td>\n",
              "      <td>COMPLETE</td>\n",
              "      <td>0.2</td>\n",
              "      <td>10.0</td>\n",
              "      <td>16.0</td>\n",
              "      <td>476.835754</td>\n",
              "      <td>20.733881</td>\n",
              "      <td>473.659668</td>\n",
              "      <td>494.974548</td>\n",
              "      <td>20.832954</td>\n",
              "      <td>494.974548</td>\n",
              "      <td>476.835754</td>\n",
              "      <td>21.179184</td>\n",
              "      <td>473.659668</td>\n",
              "    </tr>\n",
              "    <tr>\n",
              "      <th>8</th>\n",
              "      <td>vertex-ai-auto-dataset-metrics-parameters-expe...</td>\n",
              "      <td>auto-mpg-local-run-1</td>\n",
              "      <td>system.ExperimentRun</td>\n",
              "      <td>COMPLETE</td>\n",
              "      <td>0.1</td>\n",
              "      <td>10.0</td>\n",
              "      <td>16.0</td>\n",
              "      <td>530.446899</td>\n",
              "      <td>21.084642</td>\n",
              "      <td>518.813904</td>\n",
              "      <td>555.201355</td>\n",
              "      <td>21.171076</td>\n",
              "      <td>555.201355</td>\n",
              "      <td>530.446899</td>\n",
              "      <td>21.680782</td>\n",
              "      <td>518.813904</td>\n",
              "    </tr>\n",
              "    <tr>\n",
              "      <th>9</th>\n",
              "      <td>vertex-ai-auto-dataset-metrics-parameters-expe...</td>\n",
              "      <td>auto-mpg-local-run-0</td>\n",
              "      <td>system.ExperimentRun</td>\n",
              "      <td>COMPLETE</td>\n",
              "      <td>0.1</td>\n",
              "      <td>3.0</td>\n",
              "      <td>16.0</td>\n",
              "      <td>603.986511</td>\n",
              "      <td>22.856188</td>\n",
              "      <td>581.430359</td>\n",
              "      <td>616.793457</td>\n",
              "      <td>23.302818</td>\n",
              "      <td>616.793457</td>\n",
              "      <td>603.986511</td>\n",
              "      <td>23.483456</td>\n",
              "      <td>581.430359</td>\n",
              "    </tr>\n",
              "  </tbody>\n",
              "</table>\n",
              "</div>\n",
              "      <button class=\"colab-df-convert\" onclick=\"convertToInteractive('df-22ed0a63-b544-453c-b4a6-8d79f0bbd42e')\"\n",
              "              title=\"Convert this dataframe to an interactive table.\"\n",
              "              style=\"display:none;\">\n",
              "        \n",
              "  <svg xmlns=\"http://www.w3.org/2000/svg\" height=\"24px\"viewBox=\"0 0 24 24\"\n",
              "       width=\"24px\">\n",
              "    <path d=\"M0 0h24v24H0V0z\" fill=\"none\"/>\n",
              "    <path d=\"M18.56 5.44l.94 2.06.94-2.06 2.06-.94-2.06-.94-.94-2.06-.94 2.06-2.06.94zm-11 1L8.5 8.5l.94-2.06 2.06-.94-2.06-.94L8.5 2.5l-.94 2.06-2.06.94zm10 10l.94 2.06.94-2.06 2.06-.94-2.06-.94-.94-2.06-.94 2.06-2.06.94z\"/><path d=\"M17.41 7.96l-1.37-1.37c-.4-.4-.92-.59-1.43-.59-.52 0-1.04.2-1.43.59L10.3 9.45l-7.72 7.72c-.78.78-.78 2.05 0 2.83L4 21.41c.39.39.9.59 1.41.59.51 0 1.02-.2 1.41-.59l7.78-7.78 2.81-2.81c.8-.78.8-2.07 0-2.86zM5.41 20L4 18.59l7.72-7.72 1.47 1.35L5.41 20z\"/>\n",
              "  </svg>\n",
              "      </button>\n",
              "      \n",
              "  <style>\n",
              "    .colab-df-container {\n",
              "      display:flex;\n",
              "      flex-wrap:wrap;\n",
              "      gap: 12px;\n",
              "    }\n",
              "\n",
              "    .colab-df-convert {\n",
              "      background-color: #E8F0FE;\n",
              "      border: none;\n",
              "      border-radius: 50%;\n",
              "      cursor: pointer;\n",
              "      display: none;\n",
              "      fill: #1967D2;\n",
              "      height: 32px;\n",
              "      padding: 0 0 0 0;\n",
              "      width: 32px;\n",
              "    }\n",
              "\n",
              "    .colab-df-convert:hover {\n",
              "      background-color: #E2EBFA;\n",
              "      box-shadow: 0px 1px 2px rgba(60, 64, 67, 0.3), 0px 1px 3px 1px rgba(60, 64, 67, 0.15);\n",
              "      fill: #174EA6;\n",
              "    }\n",
              "\n",
              "    [theme=dark] .colab-df-convert {\n",
              "      background-color: #3B4455;\n",
              "      fill: #D2E3FC;\n",
              "    }\n",
              "\n",
              "    [theme=dark] .colab-df-convert:hover {\n",
              "      background-color: #434B5C;\n",
              "      box-shadow: 0px 1px 3px 1px rgba(0, 0, 0, 0.15);\n",
              "      filter: drop-shadow(0px 1px 2px rgba(0, 0, 0, 0.3));\n",
              "      fill: #FFFFFF;\n",
              "    }\n",
              "  </style>\n",
              "\n",
              "      <script>\n",
              "        const buttonEl =\n",
              "          document.querySelector('#df-22ed0a63-b544-453c-b4a6-8d79f0bbd42e button.colab-df-convert');\n",
              "        buttonEl.style.display =\n",
              "          google.colab.kernel.accessAllowed ? 'block' : 'none';\n",
              "\n",
              "        async function convertToInteractive(key) {\n",
              "          const element = document.querySelector('#df-22ed0a63-b544-453c-b4a6-8d79f0bbd42e');\n",
              "          const dataTable =\n",
              "            await google.colab.kernel.invokeFunction('convertToInteractive',\n",
              "                                                     [key], {});\n",
              "          if (!dataTable) return;\n",
              "\n",
              "          const docLinkHtml = 'Like what you see? Visit the ' +\n",
              "            '<a target=\"_blank\" href=https://colab.research.google.com/notebooks/data_table.ipynb>data table notebook</a>'\n",
              "            + ' to learn more about interactive tables.';\n",
              "          element.innerHTML = '';\n",
              "          dataTable['output_type'] = 'display_data';\n",
              "          await google.colab.output.renderOutput(dataTable, element);\n",
              "          const docLink = document.createElement('div');\n",
              "          docLink.innerHTML = docLinkHtml;\n",
              "          element.appendChild(docLink);\n",
              "        }\n",
              "      </script>\n",
              "    </div>\n",
              "  </div>\n",
              "  "
            ]
          },
          "metadata": {},
          "execution_count": 32
        }
      ]
    },
    {
      "cell_type": "markdown",
      "source": [
        "# Visualizing the Experiment's Parameters and Metrics"
      ],
      "metadata": {
        "id": "############"
      }
    },
    {
      "cell_type": "code",
      "source": [
        "plt.rcParams[\"figure.figsize\"] = [15, 5]\n",
        "\n",
        "ax = pd.plotting.parallel_coordinates(\n",
        "    experiment_df.reset_index(level=0),\n",
        "    \"run_name\",\n",
        "    cols=[\n",
        "        \"param.num_units\",\n",
        "        \"param.dropout_rate\",\n",
        "        \"param.epochs\",\n",
        "        \"metric.loss\",\n",
        "        \"metric.val_loss\",\n",
        "        \"metric.eval_loss\",\n",
        "    ],\n",
        "    color=[\"blue\", \"green\", \"pink\", \"red\"],\n",
        ")\n",
        "ax.set_yscale(\"symlog\")\n",
        "ax.legend(bbox_to_anchor=(1.0, 0.5))"
      ],
      "metadata": {
        "id": "############",
        "colab": {
          "base_uri": "https://localhost:8080/",
          "height": 467
        },
        "outputId": "52278a8c-2fe0-488e-be08-534711ddcbb4"
      },
      "execution_count": null,
      "outputs": [
        {
          "output_type": "execute_result",
          "data": {
            "text/plain": [
              "<matplotlib.legend.Legend at 0x7f39cd32eb90>"
            ]
          },
          "metadata": {},
          "execution_count": 33
        },
        {
          "output_type": "display_data",
          "data": {
            "text/plain": [
              "<Figure size 1500x500 with 1 Axes>"
            ],
            "image/png": "[encoded data removed]"
          },
          "metadata": {}
        }
      ]
    },
    {
      "cell_type": "markdown",
      "source": [
        "# Visualize Experiment in Cloud Console"
      ],
      "metadata": {
        "id": "############"
      }
    },
    {
      "cell_type": "markdown",
      "source": [
        "Print URL of Vertex AI Experiments for the project."
      ],
      "metadata": {
        "id": "############"
      }
    },
    {
      "cell_type": "code",
      "source": [
        "print(\"Vertex AI Experiments\")\n",
        "print(f\"https://console.cloud.google.com/ai/platform/experiments/experiments?rfolder=&organizationId=&project={PROJECT_ID}\")"
      ],
      "metadata": {
        "id": "############",
        "colab": {
          "base_uri": "https://localhost:8080/"
        },
        "outputId": "############"
      },
      "execution_count": null,
      "outputs": [
        {
          "output_type": "stream",
          "name": "stdout",
          "text": [
            "Vertex AI Experiments\n",
            "https://console.cloud.google.com/ai/platform/experiments/experiments?rfolder=&organizationId=&project=ACTUAL_GOOGLE_PROJECT_ID\n"
          ]
        }
      ]
    }
  ]
}